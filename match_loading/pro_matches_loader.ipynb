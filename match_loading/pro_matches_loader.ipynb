{
 "cells": [
  {
   "cell_type": "code",
   "execution_count": null,
   "metadata": {},
   "outputs": [],
   "source": [
    "import numpy as np\n",
    "from bs4 import BeautifulSoup\n",
    "import pymongo\n",
    "from pymongo import MongoClient\n",
    "from pymongo.errors import DuplicateKeyError\n",
    "import urllib3\n",
    "import json\n",
    "import multiprocessing\n",
    "import time"
   ]
  },
  {
   "cell_type": "code",
   "execution_count": null,
   "metadata": {},
   "outputs": [],
   "source": [
    "client = MongoClient()\n",
    "db = client['dota']"
   ]
  },
  {
   "cell_type": "code",
   "execution_count": null,
   "metadata": {},
   "outputs": [],
   "source": [
    "pro_id_coll = db.pro_matches_id\n",
    "pro_matches_full_coll = db.pro_matches_full"
   ]
  },
  {
   "cell_type": "code",
   "execution_count": null,
   "metadata": {},
   "outputs": [],
   "source": [
    "def get_working_proxy():\n",
    "    user_agent = {'User-Agent' : 'Mozilla/5.0 (Windows NT 6.1; Win64; x64;en; rv:5.0) \\\n",
    "                  Gecko/20110619 Firefox/5.0'}\n",
    "    proxy_list_site = 'https://free-proxy-list.net/'\n",
    "    pm = urllib3.PoolManager(1, \n",
    "                             headers=user_agent, \n",
    "                             cert_reqs='CERT_REQUIRED')\n",
    "    prx_req = pm.request('GET', proxy_list_site)\n",
    "    prx_soup = BeautifulSoup(prx_req.data, 'html.parser')\n",
    "    proxies_list = []\n",
    "    for tr in prx_soup.find_all('tr'):\n",
    "        tmp = []\n",
    "        for td in tr.find_all('td')[:2]:\n",
    "            tmp.append(td.text)\n",
    "        if len(tmp) < 2:\n",
    "            continue\n",
    "        proxies_list.append([str(tmp[0]) + ':' + tmp[1]])\n",
    "    \n",
    "    proxies_list = proxies_list[:20]\n",
    "    np.random.seed()\n",
    "    np.random.shuffle(proxies_list)\n",
    "    for i, prx in enumerate(proxies_list):\n",
    "        try:\n",
    "            print('Getting working proxy...')\n",
    "            cur_prx_address = 'https://' + str(prx[0]) + '/'\n",
    "            prx_http = urllib3.ProxyManager(cur_prx_address,\n",
    "                                            maxsize=1, \n",
    "                                            headers=user_agent, \n",
    "                                            cert_reqs='CERT_REQUIRED')\n",
    "            r = prx_http.request('GET', 'https://stackoverflow.com/', timeout=0.7)\n",
    "            if r.status == 200:\n",
    "                print('Proxy found.', cur_prx_address)\n",
    "                return cur_prx_address\n",
    "            time.sleep(0.1)\n",
    "        except Exception as err:\n",
    "            # print(err)\n",
    "            continue"
   ]
  },
  {
   "cell_type": "code",
   "execution_count": null,
   "metadata": {},
   "outputs": [],
   "source": [
    "def api_get_match(prx_address, match_id):\n",
    "    url = 'https://api.opendota.com/api/matches/'\n",
    "    user_agent = {'User-Agent' : 'Mozilla/5.0 (Windows NT 6.1; Win64; x64;en; rv:5.0) \\\n",
    "                  Gecko/20110619 Firefox/5.0'}\n",
    "    cur_url = url + str(match_id)\n",
    "    prx_m = urllib3.ProxyManager(prx_address, headers=user_agent, cert_reqs='CERT_REQUIRED')\n",
    "    r = prx_m.request('GET', cur_url, timeout=2)\n",
    "    matches = json.loads(r.data)\n",
    "    return matches"
   ]
  },
  {
   "cell_type": "code",
   "execution_count": null,
   "metadata": {},
   "outputs": [],
   "source": [
    "def get_new_ids():\n",
    "    ids_all = [x['match_id'] for x in pro_id_coll.find({}, {'match_id'})]\n",
    "    ids_stored = [x['match_id'] for x in pro_matches_full_coll.find({}, {'match_id'})]\n",
    "    need_to_load_ids_bool = np.isin(ids_all, ids_stored, invert=True)\n",
    "    need_to_load_ids = np.array(ids_all)[need_to_load_ids_bool]\n",
    "    return need_to_load_ids"
   ]
  },
  {
   "cell_type": "code",
   "execution_count": null,
   "metadata": {},
   "outputs": [],
   "source": [
    "def load_insert(matches_ids, odd_even):\n",
    "    user_agent = {'User-Agent' : 'Mozilla/5.0 (Windows NT 6.1; Win64; x64;en; rv:5.0) \\\n",
    "                  Gecko/20110619 Firefox/5.0'}\n",
    "    prx_address = get_working_proxy()\n",
    "    pm = urllib3.ProxyManager(proxy_url=prx_address, headers=user_agent, cert_reqs='CERT_REQUIRED')\n",
    "    \n",
    "    for i, cur_match_id in enumerate(matches_ids):\n",
    "        print(i, cur_match_id) if i % 10 == 0 else None\n",
    "        if cur_match_id % 2 == odd_even:\n",
    "            try:\n",
    "                cur_match = api_get_match(prx_address, cur_match_id)\n",
    "                if 'error' in cur_match.keys():\n",
    "                    print(cur_match)\n",
    "                    prx_address = get_working_proxy()\n",
    "                    continue\n",
    "                if 'match_id' not in cur_match.keys():\n",
    "                    print('havent match_id')\n",
    "                    continue\n",
    "                pro_matches_full_coll.insert_one(cur_match)\n",
    "            except Exception as e:\n",
    "                print(e, cur_match_id)\n",
    "                continue\n",
    "        time.sleep(0)"
   ]
  },
  {
   "cell_type": "code",
   "execution_count": null,
   "metadata": {},
   "outputs": [],
   "source": [
    "needed_ids = get_new_ids()\n",
    "print(len(needed_ids))\n",
    "\n",
    "pool1 = multiprocessing.Pool(2)\n",
    "pool2 = multiprocessing.Pool(2)\n",
    "p1 = pool1.Process(target=load_insert, args=(needed_ids, 0, ))\n",
    "p2 = pool2.Process(target=load_insert, args=(needed_ids, 1, ))\n",
    "p1.start()\n",
    "p2.start()\n",
    "p1.join()\n",
    "p2.join()"
   ]
  }
 ],
 "metadata": {
  "kernelspec": {
   "display_name": "Python 3",
   "language": "python",
   "name": "python3"
  },
  "language_info": {
   "codemirror_mode": {
    "name": "ipython",
    "version": 3
   },
   "file_extension": ".py",
   "mimetype": "text/x-python",
   "name": "python",
   "nbconvert_exporter": "python",
   "pygments_lexer": "ipython3",
   "version": "3.6.5"
  }
 },
 "nbformat": 4,
 "nbformat_minor": 2
}
